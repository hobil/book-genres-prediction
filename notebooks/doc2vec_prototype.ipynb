{
 "cells": [
  {
   "cell_type": "markdown",
   "metadata": {},
   "source": [
    "# Doc2Vec\n",
    "We take snippets from 1497 books and **train a doc2vec model** on them.\n",
    "\n",
    "Next, we explore **most similar documents** to 2 selected documents. Do these documents come from the same author? Do they have same genre?\n",
    "\n",
    "In the following, we project the document vectors to 2D using **PCA** and **t-SNE** and plot them. Are documents written by the same author close to each other? Can we observe clusters based on genres?\n"
   ]
  },
  {
   "cell_type": "code",
   "execution_count": 1,
   "metadata": {},
   "outputs": [],
   "source": [
    "import gensim # sudo pip3 install gensim\n",
    "from gensim.models.doc2vec import Doc2Vec\n",
    "import os\n",
    "import collections\n",
    "import numpy as np \n",
    "import random\n",
    "import pickle\n",
    "import multiprocessing\n",
    "import pandas as pd\n",
    "import zipfile\n",
    "\n",
    "cores = multiprocessing.cpu_count()\n",
    "\n",
    "RES = '../res/'\n",
    "SAMPLE_BOOKS_CLEAN_FOLDER = '../res/books_clean' # 1497 books with Gutenberg header and footer stripped\n",
    "TOKENIZED_DOCS_FOLDER = '../res/tokenized_docs'\n",
    "\n",
    "SAMPLE_BOOKS_CLEAN_URL = \"http://www.ms.mff.cuni.cz/~bilekja/books_sample_clean.zip\"\n",
    "BOOKS_ZIP_FILENAME = '../res/books_sample_clean.zip'"
   ]
  },
  {
   "cell_type": "code",
   "execution_count": 2,
   "metadata": {},
   "outputs": [],
   "source": [
    "LOAD_DATASET = True\n",
    "TOKENIZE = True"
   ]
  },
  {
   "cell_type": "markdown",
   "metadata": {},
   "source": [
    "Download 1497 books from Project Gutenberg. The texts are already preprocessed and headers and footers relating to Project Gutenberg are removed."
   ]
  },
  {
   "cell_type": "code",
   "execution_count": 3,
   "metadata": {},
   "outputs": [],
   "source": [
    "if LOAD_DATASET:\n",
    "    !curl \"http://www.ms.mff.cuni.cz/~bilekja/books_sample_clean.zip\" -o $BOOKS_ZIP_FILENAME\n",
    "    z = zipfile.ZipFile(BOOKS_ZIP_FILENAME)\n",
    "    z.extractall(RES)"
   ]
  },
  {
   "cell_type": "code",
   "execution_count": 4,
   "metadata": {},
   "outputs": [],
   "source": [
    "def tokenize_corpus(folder):\n",
    "    total_books = len(os.listdir(folder))\n",
    "    i=0\n",
    "    for filename in os.listdir(folder):\n",
    "        i+=1\n",
    "        print(\"\\r{} out of {} books processed\".format(i,total_books),end='')\n",
    "        with open(os.path.join(folder,filename), encoding=\"utf-8\") as f:\n",
    "            doc_id = filename.split('.')[0]\n",
    "            book_text = f.read()\n",
    "            # tokenized the book text\n",
    "            tokens = gensim.utils.simple_preprocess(book_text)\n",
    "            pickle.dump(tokens, open(os.path.join(TOKENIZED_DOCS_FOLDER, doc_id), 'wb'))\n",
    "\n",
    "!mkdir -p $TOKENIZED_DOCS_FOLDER\n",
    "if TOKENIZE:\n",
    "    tokenize_corpus(SAMPLE_BOOKS_CLEAN_FOLDER)"
   ]
  },
  {
   "cell_type": "markdown",
   "metadata": {},
   "source": [
    "Get `$WORDS_IN_DOCUMENT` words from the beginning of the book. We skip first `$FILTER_FIRST_N_WORDS` words as it may still contain book title, author name, content or other noise."
   ]
  },
  {
   "cell_type": "code",
   "execution_count": 5,
   "metadata": {},
   "outputs": [],
   "source": [
    "SKIP_FIRST_N_WORDS = 500\n",
    "WORDS_IN_DOCUMENT = 2000"
   ]
  },
  {
   "cell_type": "markdown",
   "metadata": {},
   "source": [
    "Load the Tagged Documents and pickle the whole corpus (might cause problem for big files)."
   ]
  },
  {
   "cell_type": "code",
   "execution_count": 6,
   "metadata": {},
   "outputs": [],
   "source": [
    "def load_corpus(folder, skip_first_n_words = None, words_in_document = None):\n",
    "    for doc_id in os.listdir(folder):\n",
    "        tokens = pickle.load(open(os.path.join(folder, doc_id),'rb'))\n",
    "        tokens = tokens[ skip_first_n_words: skip_first_n_words + words_in_document ]\n",
    "        yield gensim.models.doc2vec.TaggedDocument(tokens, [doc_id])\n",
    "\n",
    "documents = list(load_corpus(TOKENIZED_DOCS_FOLDER, skip_first_n_words=SKIP_FIRST_N_WORDS, words_in_document=WORDS_IN_DOCUMENT))\n",
    "pickle.dump(documents, open('../res/documents_{}_{}.pkl'.format(SKIP_FIRST_N_WORDS, WORDS_IN_DOCUMENT), 'wb'))"
   ]
  },
  {
   "cell_type": "markdown",
   "metadata": {},
   "source": [
    "Populate the vocabulary of the doc2vec model."
   ]
  },
  {
   "cell_type": "code",
   "execution_count": 7,
   "metadata": {},
   "outputs": [],
   "source": [
    "#train_corpus = pickle.load(open('../res/corpus_500_words.pkl','rb'))\n",
    "\n",
    "#model = Doc2Vec(vector_size=50, min_count=2, epochs=55, workers=-1)\n",
    "#model = Doc2Vec(dm=1, dm_concat=1, vector_size=100, window=5, negative=5, hs=0, min_count=2, workers=cores)\n",
    "#model = Doc2Vec(dm=0, vector_size=100, negative=5, hs=0, min_count=2, workers=cores)\n",
    "model = Doc2Vec(dm=1, dm_mean=1, vector_size=100, window=10, negative=5, hs=0, min_count=2, workers=cores)\n",
    "model.build_vocab(documents)\n",
    "model.save('../res/model_{}_words'.format(WORDS_IN_DOCUMENT))"
   ]
  },
  {
   "cell_type": "markdown",
   "metadata": {},
   "source": [
    "Train the model (might take long time for big corpora)."
   ]
  },
  {
   "cell_type": "code",
   "execution_count": 8,
   "metadata": {},
   "outputs": [
    {
     "name": "stdout",
     "output_type": "stream",
     "text": [
      "CPU times: user 27.7 s, sys: 228 ms, total: 27.9 s\n",
      "Wall time: 9.48 s\n"
     ]
    }
   ],
   "source": [
    "%time model.train(documents, total_examples=model.corpus_count, epochs=model.epochs)\n",
    "model.save('../res/model_{}_words'.format(WORDS_IN_DOCUMENT))"
   ]
  },
  {
   "cell_type": "markdown",
   "metadata": {},
   "source": [
    "As the documents are 0 indexed in Doc2Vec, we create a lookup table to keep track of document ids."
   ]
  },
  {
   "cell_type": "code",
   "execution_count": 9,
   "metadata": {},
   "outputs": [],
   "source": [
    "lookup_table = dict()\n",
    "for n, (tokens, key) in enumerate(documents):\n",
    "    lookup_table[key[0]] = n\n",
    "    \n",
    "book_ids = list(lookup_table.keys())"
   ]
  },
  {
   "cell_type": "markdown",
   "metadata": {},
   "source": [
    "Representation of document vectors."
   ]
  },
  {
   "cell_type": "code",
   "execution_count": 10,
   "metadata": {},
   "outputs": [],
   "source": [
    "docvecs = np.array([model.docvecs[book_id] for book_id in book_ids])"
   ]
  },
  {
   "cell_type": "markdown",
   "metadata": {},
   "source": [
    "### Fetch metadata catalog"
   ]
  },
  {
   "cell_type": "code",
   "execution_count": 11,
   "metadata": {},
   "outputs": [],
   "source": [
    "METADATA_CATALOG_URL = 'http://www.ms.mff.cuni.cz/~bilekja/metadata_catalog.pkl.zip'\n",
    "METADATA_CATALOG_ZIP_PATH = '../res/metadata_catalog.pkl.zip'\n",
    "METADATA_CATALOG_PATH = '../res/metadata_catalog.pkl'"
   ]
  },
  {
   "cell_type": "code",
   "execution_count": 12,
   "metadata": {},
   "outputs": [
    {
     "data": {
      "text/html": [
       "<div>\n",
       "<style scoped>\n",
       "    .dataframe tbody tr th:only-of-type {\n",
       "        vertical-align: middle;\n",
       "    }\n",
       "\n",
       "    .dataframe tbody tr th {\n",
       "        vertical-align: top;\n",
       "    }\n",
       "\n",
       "    .dataframe thead th {\n",
       "        text-align: right;\n",
       "    }\n",
       "</style>\n",
       "<table border=\"1\" class=\"dataframe\">\n",
       "  <thead>\n",
       "    <tr style=\"text-align: right;\">\n",
       "      <th></th>\n",
       "      <th>author</th>\n",
       "      <th>title</th>\n",
       "      <th>downloads</th>\n",
       "      <th>formats</th>\n",
       "      <th>type</th>\n",
       "      <th>LCC</th>\n",
       "      <th>subjects</th>\n",
       "      <th>authoryearofbirth</th>\n",
       "      <th>authoryearofdeath</th>\n",
       "      <th>language</th>\n",
       "    </tr>\n",
       "    <tr>\n",
       "      <th>id</th>\n",
       "      <th></th>\n",
       "      <th></th>\n",
       "      <th></th>\n",
       "      <th></th>\n",
       "      <th></th>\n",
       "      <th></th>\n",
       "      <th></th>\n",
       "      <th></th>\n",
       "      <th></th>\n",
       "      <th></th>\n",
       "    </tr>\n",
       "  </thead>\n",
       "  <tbody>\n",
       "    <tr>\n",
       "      <th>13</th>\n",
       "      <td>Carroll, Lewis</td>\n",
       "      <td>The Hunting of the Snark: An Agony in Eight Fits</td>\n",
       "      <td>304.0</td>\n",
       "      <td>{'application/rdf+xml': 'http://www.gutenberg....</td>\n",
       "      <td>Text</td>\n",
       "      <td>{PR}</td>\n",
       "      <td>{Nonsense verses, English}</td>\n",
       "      <td>1832.0</td>\n",
       "      <td>1898.0</td>\n",
       "      <td>[en]</td>\n",
       "    </tr>\n",
       "    <tr>\n",
       "      <th>15</th>\n",
       "      <td>Melville, Herman</td>\n",
       "      <td>Moby Dick</td>\n",
       "      <td>856.0</td>\n",
       "      <td>{'text/plain; charset=us-ascii': 'http://www.g...</td>\n",
       "      <td>Text</td>\n",
       "      <td>{PS}</td>\n",
       "      <td>{Whaling ships -- Fiction, Adventure stories, ...</td>\n",
       "      <td>1819.0</td>\n",
       "      <td>1891.0</td>\n",
       "      <td>[en]</td>\n",
       "    </tr>\n",
       "    <tr>\n",
       "      <th>19</th>\n",
       "      <td>Longfellow, Henry Wadsworth</td>\n",
       "      <td>The Song of Hiawatha</td>\n",
       "      <td>241.0</td>\n",
       "      <td>{'text/html; charset=us-ascii': 'http://www.gu...</td>\n",
       "      <td>Text</td>\n",
       "      <td>{PS}</td>\n",
       "      <td>{Hiawatha, active 15th century -- Poetry, Iroq...</td>\n",
       "      <td>1807.0</td>\n",
       "      <td>1882.0</td>\n",
       "      <td>[en]</td>\n",
       "    </tr>\n",
       "    <tr>\n",
       "      <th>20</th>\n",
       "      <td>Milton, John</td>\n",
       "      <td>Paradise Lost</td>\n",
       "      <td>2252.0</td>\n",
       "      <td>{'application/x-mobipocket-ebook': 'http://www...</td>\n",
       "      <td>Text</td>\n",
       "      <td>{PR}</td>\n",
       "      <td>{Bible. Genesis -- History of Biblical events ...</td>\n",
       "      <td>1608.0</td>\n",
       "      <td>1674.0</td>\n",
       "      <td>[en]</td>\n",
       "    </tr>\n",
       "    <tr>\n",
       "      <th>22</th>\n",
       "      <td>Roget, Peter Mark</td>\n",
       "      <td>Roget's Thesaurus</td>\n",
       "      <td>328.0</td>\n",
       "      <td>{'application/x-mobipocket-ebook': 'http://www...</td>\n",
       "      <td>Text</td>\n",
       "      <td>{PE}</td>\n",
       "      <td>{English language -- Synonyms and antonyms}</td>\n",
       "      <td>1779.0</td>\n",
       "      <td>1869.0</td>\n",
       "      <td>[en]</td>\n",
       "    </tr>\n",
       "  </tbody>\n",
       "</table>\n",
       "</div>"
      ],
      "text/plain": [
       "                         author  \\\n",
       "id                                \n",
       "13               Carroll, Lewis   \n",
       "15             Melville, Herman   \n",
       "19  Longfellow, Henry Wadsworth   \n",
       "20                 Milton, John   \n",
       "22            Roget, Peter Mark   \n",
       "\n",
       "                                               title  downloads  \\\n",
       "id                                                                \n",
       "13  The Hunting of the Snark: An Agony in Eight Fits      304.0   \n",
       "15                                         Moby Dick      856.0   \n",
       "19                              The Song of Hiawatha      241.0   \n",
       "20                                     Paradise Lost     2252.0   \n",
       "22                                 Roget's Thesaurus      328.0   \n",
       "\n",
       "                                              formats  type   LCC  \\\n",
       "id                                                                  \n",
       "13  {'application/rdf+xml': 'http://www.gutenberg....  Text  {PR}   \n",
       "15  {'text/plain; charset=us-ascii': 'http://www.g...  Text  {PS}   \n",
       "19  {'text/html; charset=us-ascii': 'http://www.gu...  Text  {PS}   \n",
       "20  {'application/x-mobipocket-ebook': 'http://www...  Text  {PR}   \n",
       "22  {'application/x-mobipocket-ebook': 'http://www...  Text  {PE}   \n",
       "\n",
       "                                             subjects  authoryearofbirth  \\\n",
       "id                                                                         \n",
       "13                         {Nonsense verses, English}             1832.0   \n",
       "15  {Whaling ships -- Fiction, Adventure stories, ...             1819.0   \n",
       "19  {Hiawatha, active 15th century -- Poetry, Iroq...             1807.0   \n",
       "20  {Bible. Genesis -- History of Biblical events ...             1608.0   \n",
       "22        {English language -- Synonyms and antonyms}             1779.0   \n",
       "\n",
       "    authoryearofdeath language  \n",
       "id                              \n",
       "13             1898.0     [en]  \n",
       "15             1891.0     [en]  \n",
       "19             1882.0     [en]  \n",
       "20             1674.0     [en]  \n",
       "22             1869.0     [en]  "
      ]
     },
     "execution_count": 12,
     "metadata": {},
     "output_type": "execute_result"
    }
   ],
   "source": [
    "if not os.path.exists(METADATA_CATALOG_PATH):\n",
    "    # load the metadata catalog\n",
    "    !curl $METADATA_CATALOG_URL -o $METADATA_CATALOG_ZIP_PATH\n",
    "    # unzip it\n",
    "    z2 = zipfile.ZipFile(METADATA_CATALOG_ZIP_PATH)\n",
    "    z2.extractall(RES)\n",
    "\n",
    "# unpickle it - the format is dictionary\n",
    "metadata_catalog_dict = pickle.load(open(METADATA_CATALOG_PATH,'rb'))\n",
    "# convert the catalog to pandas DataFrame for more convenient handling\n",
    "metadata_catalog = pd.DataFrame.from_dict(metadata_catalog_dict, orient='index').set_index('id')\n",
    "# keep only books we have in our corpus\n",
    "metadata_catalog = metadata_catalog[metadata_catalog.index.isin(book_ids)]\n",
    "metadata_catalog.head()"
   ]
  },
  {
   "cell_type": "markdown",
   "metadata": {},
   "source": [
    "Display most common authors along with number of books in the corpus."
   ]
  },
  {
   "cell_type": "code",
   "execution_count": 13,
   "metadata": {},
   "outputs": [
    {
     "data": {
      "text/plain": [
       "[('Shakespeare, William', 156),\n",
       " ('Balzac, Honoré de', 92),\n",
       " ('Harte, Bret', 48),\n",
       " ('Galsworthy, John', 32),\n",
       " (None, 31),\n",
       " ('Davis, Richard Harding', 28),\n",
       " ('Haggard, H. Rider (Henry Rider)', 26),\n",
       " ('London, Jack', 24),\n",
       " ('Doyle, Arthur Conan', 23),\n",
       " ('James, Henry', 22)]"
      ]
     },
     "execution_count": 13,
     "metadata": {},
     "output_type": "execute_result"
    }
   ],
   "source": [
    "author_counts = collections.Counter(metadata_catalog.author)\n",
    "author_counts.most_common(10)"
   ]
  },
  {
   "cell_type": "markdown",
   "metadata": {},
   "source": [
    "Select 8 most common authors (excluding the author None)."
   ]
  },
  {
   "cell_type": "code",
   "execution_count": 14,
   "metadata": {},
   "outputs": [],
   "source": [
    "most_common_authors = [author for author, count in author_counts.most_common(9)\n",
    "                           if author != None]"
   ]
  },
  {
   "cell_type": "markdown",
   "metadata": {},
   "source": [
    "Initialize variable authors that contains the author's name if the author is one of the most_common_authors. Put 'Other' otherwise."
   ]
  },
  {
   "cell_type": "code",
   "execution_count": 15,
   "metadata": {},
   "outputs": [],
   "source": [
    "authors = metadata_catalog.loc[[int(b) for b in book_ids]].author\n",
    "authors.where(authors.isin(most_common_authors), 'Other', inplace=True)"
   ]
  },
  {
   "cell_type": "markdown",
   "metadata": {},
   "source": [
    "Initialize variable genres. Book is assigned a genre if it covers exactly one of the genres of interest."
   ]
  },
  {
   "cell_type": "code",
   "execution_count": 16,
   "metadata": {},
   "outputs": [],
   "source": [
    "selected_genres = ['Fiction',\n",
    "          'Short stories',\n",
    "          'Detective and mystery stories',\n",
    "          'Historical fiction',\n",
    "          'Love stories',\n",
    "          'Western stories',\n",
    "          'Adventure Stories']\n",
    "\n",
    "genres = metadata_catalog.subjects.apply(\n",
    "    lambda x: list(x.intersection(selected_genres))[0] if len(x.intersection(selected_genres))==1 else '')"
   ]
  },
  {
   "cell_type": "markdown",
   "metadata": {},
   "source": [
    "# Most similar texts"
   ]
  },
  {
   "cell_type": "code",
   "execution_count": 17,
   "metadata": {},
   "outputs": [],
   "source": [
    "metadata_simple = metadata_catalog[['author','title','subjects']]\n",
    "pd.set_option('display.max_colwidth', -1)"
   ]
  },
  {
   "cell_type": "markdown",
   "metadata": {},
   "source": [
    "### The Adventures of Sherlock Holmes"
   ]
  },
  {
   "cell_type": "code",
   "execution_count": 18,
   "metadata": {},
   "outputs": [],
   "source": [
    "doc_id = '1661'\n",
    "n = 20"
   ]
  },
  {
   "cell_type": "code",
   "execution_count": 19,
   "metadata": {},
   "outputs": [
    {
     "data": {
      "text/html": [
       "<div>\n",
       "<style scoped>\n",
       "    .dataframe tbody tr th:only-of-type {\n",
       "        vertical-align: middle;\n",
       "    }\n",
       "\n",
       "    .dataframe tbody tr th {\n",
       "        vertical-align: top;\n",
       "    }\n",
       "\n",
       "    .dataframe thead th {\n",
       "        text-align: right;\n",
       "    }\n",
       "</style>\n",
       "<table border=\"1\" class=\"dataframe\">\n",
       "  <thead>\n",
       "    <tr style=\"text-align: right;\">\n",
       "      <th></th>\n",
       "      <th>author</th>\n",
       "      <th>title</th>\n",
       "      <th>subjects</th>\n",
       "      <th>score</th>\n",
       "    </tr>\n",
       "    <tr>\n",
       "      <th>id</th>\n",
       "      <th></th>\n",
       "      <th></th>\n",
       "      <th></th>\n",
       "      <th></th>\n",
       "    </tr>\n",
       "  </thead>\n",
       "  <tbody>\n",
       "    <tr>\n",
       "      <th>1661</th>\n",
       "      <td>Doyle, Arthur Conan</td>\n",
       "      <td>The Adventures of Sherlock Holmes</td>\n",
       "      <td>{Private investigators -- England -- Fiction, Holmes, Sherlock (Fictitious character) -- Fiction, Detective and mystery stories, English}</td>\n",
       "      <td>1.000</td>\n",
       "    </tr>\n",
       "    <tr>\n",
       "      <th>2852</th>\n",
       "      <td>Doyle, Arthur Conan</td>\n",
       "      <td>The Hound of the Baskervilles</td>\n",
       "      <td>{Blessing and cursing -- Fiction, Holmes, Sherlock (Fictitious character) -- Fiction, Dartmoor (England) -- Fiction, Detective and mystery stories, Private investigators -- England -- Fiction, Dogs -- Fiction}</td>\n",
       "      <td>0.849</td>\n",
       "    </tr>\n",
       "    <tr>\n",
       "      <th>2344</th>\n",
       "      <td>Doyle, Arthur Conan</td>\n",
       "      <td>The Adventure of the Cardboard Box</td>\n",
       "      <td>{Private investigators -- England -- Fiction, Detective and mystery stories, Holmes, Sherlock (Fictitious character) -- Fiction}</td>\n",
       "      <td>0.828</td>\n",
       "    </tr>\n",
       "    <tr>\n",
       "      <th>2841</th>\n",
       "      <td>Haggard, H. Rider (Henry Rider)</td>\n",
       "      <td>The Ivory Child</td>\n",
       "      <td>{Fantasy fiction, English, Adventure stories, Quatermain, Allan (Fictitious character) -- Fiction}</td>\n",
       "      <td>0.827</td>\n",
       "    </tr>\n",
       "    <tr>\n",
       "      <th>2867</th>\n",
       "      <td>Harte, Bret</td>\n",
       "      <td>A Sappho of Green Springs</td>\n",
       "      <td>{American fiction -- 19th century, California -- Social life and customs -- Fiction, Western stories}</td>\n",
       "      <td>0.818</td>\n",
       "    </tr>\n",
       "    <tr>\n",
       "      <th>2343</th>\n",
       "      <td>Doyle, Arthur Conan</td>\n",
       "      <td>The Adventure of Wisteria Lodge</td>\n",
       "      <td>{Private investigators -- England -- Fiction, Detective and mystery stories, Holmes, Sherlock (Fictitious character) -- Fiction}</td>\n",
       "      <td>0.811</td>\n",
       "    </tr>\n",
       "    <tr>\n",
       "      <th>2347</th>\n",
       "      <td>Doyle, Arthur Conan</td>\n",
       "      <td>The Adventure of the Dying Detective</td>\n",
       "      <td>{Private investigators -- England -- Fiction, Detective and mystery stories, Holmes, Sherlock (Fictitious character) -- Fiction}</td>\n",
       "      <td>0.810</td>\n",
       "    </tr>\n",
       "    <tr>\n",
       "      <th>2097</th>\n",
       "      <td>Doyle, Arthur Conan</td>\n",
       "      <td>The Sign of the Four</td>\n",
       "      <td>{Private investigators -- England -- Fiction, Detective and mystery stories, Holmes, Sherlock (Fictitious character) -- Fiction}</td>\n",
       "      <td>0.803</td>\n",
       "    </tr>\n",
       "    <tr>\n",
       "      <th>173</th>\n",
       "      <td>Rohmer, Sax</td>\n",
       "      <td>The Insidious Dr. Fu Manchu</td>\n",
       "      <td>{Detective and mystery stories, Criminals -- Fiction, Fu Manchu, Doctor (Fictitious character) -- Fiction}</td>\n",
       "      <td>0.799</td>\n",
       "    </tr>\n",
       "    <tr>\n",
       "      <th>1159</th>\n",
       "      <td>Rohmer, Sax</td>\n",
       "      <td>Fire-Tongue</td>\n",
       "      <td>{Detective and mystery stories, Secret societies -- Fiction}</td>\n",
       "      <td>0.788</td>\n",
       "    </tr>\n",
       "    <tr>\n",
       "      <th>2784</th>\n",
       "      <td>Harte, Bret</td>\n",
       "      <td>Colonel Starbottle's Client</td>\n",
       "      <td>{Western stories}</td>\n",
       "      <td>0.783</td>\n",
       "    </tr>\n",
       "    <tr>\n",
       "      <th>244</th>\n",
       "      <td>Doyle, Arthur Conan</td>\n",
       "      <td>A Study in Scarlet</td>\n",
       "      <td>{Private investigators -- England -- Fiction, Detective and mystery stories, Holmes, Sherlock (Fictitious character) -- Fiction, England -- Fiction}</td>\n",
       "      <td>0.770</td>\n",
       "    </tr>\n",
       "    <tr>\n",
       "      <th>108</th>\n",
       "      <td>Doyle, Arthur Conan</td>\n",
       "      <td>The Return of Sherlock Holmes</td>\n",
       "      <td>{Holmes, Sherlock (Fictitious character) -- Fiction, Detective and mystery stories, English}</td>\n",
       "      <td>0.769</td>\n",
       "    </tr>\n",
       "    <tr>\n",
       "      <th>2688</th>\n",
       "      <td>Wallace, Edgar</td>\n",
       "      <td>The Clue of the Twisted Candle</td>\n",
       "      <td>{Detective and mystery stories}</td>\n",
       "      <td>0.768</td>\n",
       "    </tr>\n",
       "    <tr>\n",
       "      <th>1407</th>\n",
       "      <td>Dickens, Charles</td>\n",
       "      <td>A Message from the Sea</td>\n",
       "      <td>{Sea stories, English fiction -- 19th century}</td>\n",
       "      <td>0.766</td>\n",
       "    </tr>\n",
       "    <tr>\n",
       "      <th>221</th>\n",
       "      <td>Doyle, Arthur Conan</td>\n",
       "      <td>The Return of Sherlock Holmes</td>\n",
       "      <td>{Private investigators -- England -- Fiction, Holmes, Sherlock (Fictitious character) -- Fiction, Detective and mystery stories, English}</td>\n",
       "      <td>0.765</td>\n",
       "    </tr>\n",
       "    <tr>\n",
       "      <th>1654</th>\n",
       "      <td>Shaw, Bernard</td>\n",
       "      <td>An Unsocial Socialist</td>\n",
       "      <td>{Socialism -- Fiction, Satire, Rich people -- Fiction, Disguise -- Fiction}</td>\n",
       "      <td>0.760</td>\n",
       "    </tr>\n",
       "    <tr>\n",
       "      <th>1849</th>\n",
       "      <td>Oppenheim, E. Phillips (Edward Phillips)</td>\n",
       "      <td>The Yellow Crayon</td>\n",
       "      <td>{Detective and mystery stories, Fiction}</td>\n",
       "      <td>0.759</td>\n",
       "    </tr>\n",
       "    <tr>\n",
       "      <th>1710</th>\n",
       "      <td>Balzac, Honoré de</td>\n",
       "      <td>La Grande Breteche</td>\n",
       "      <td>{Horror tales, French fiction -- Translations into English}</td>\n",
       "      <td>0.759</td>\n",
       "    </tr>\n",
       "    <tr>\n",
       "      <th>2350</th>\n",
       "      <td>Doyle, Arthur Conan</td>\n",
       "      <td>His Last Bow: An Epilogue of Sherlock Holmes</td>\n",
       "      <td>{Private investigators -- England -- Fiction, Detective and mystery stories, Holmes, Sherlock (Fictitious character) -- Fiction}</td>\n",
       "      <td>0.757</td>\n",
       "    </tr>\n",
       "  </tbody>\n",
       "</table>\n",
       "</div>"
      ],
      "text/plain": [
       "                                        author  \\\n",
       "id                                               \n",
       "1661  Doyle, Arthur Conan                        \n",
       "2852  Doyle, Arthur Conan                        \n",
       "2344  Doyle, Arthur Conan                        \n",
       "2841  Haggard, H. Rider (Henry Rider)            \n",
       "2867  Harte, Bret                                \n",
       "2343  Doyle, Arthur Conan                        \n",
       "2347  Doyle, Arthur Conan                        \n",
       "2097  Doyle, Arthur Conan                        \n",
       "173   Rohmer, Sax                                \n",
       "1159  Rohmer, Sax                                \n",
       "2784  Harte, Bret                                \n",
       "244   Doyle, Arthur Conan                        \n",
       "108   Doyle, Arthur Conan                        \n",
       "2688  Wallace, Edgar                             \n",
       "1407  Dickens, Charles                           \n",
       "221   Doyle, Arthur Conan                        \n",
       "1654  Shaw, Bernard                              \n",
       "1849  Oppenheim, E. Phillips (Edward Phillips)   \n",
       "1710  Balzac, Honoré de                          \n",
       "2350  Doyle, Arthur Conan                        \n",
       "\n",
       "                                             title  \\\n",
       "id                                                   \n",
       "1661  The Adventures of Sherlock Holmes              \n",
       "2852  The Hound of the Baskervilles                  \n",
       "2344  The Adventure of the Cardboard Box             \n",
       "2841  The Ivory Child                                \n",
       "2867  A Sappho of Green Springs                      \n",
       "2343  The Adventure of Wisteria Lodge                \n",
       "2347  The Adventure of the Dying Detective           \n",
       "2097  The Sign of the Four                           \n",
       "173   The Insidious Dr. Fu Manchu                    \n",
       "1159  Fire-Tongue                                    \n",
       "2784  Colonel Starbottle's Client                    \n",
       "244   A Study in Scarlet                             \n",
       "108   The Return of Sherlock Holmes                  \n",
       "2688  The Clue of the Twisted Candle                 \n",
       "1407  A Message from the Sea                         \n",
       "221   The Return of Sherlock Holmes                  \n",
       "1654  An Unsocial Socialist                          \n",
       "1849  The Yellow Crayon                              \n",
       "1710  La Grande Breteche                             \n",
       "2350  His Last Bow: An Epilogue of Sherlock Holmes   \n",
       "\n",
       "                                                                                                                                                                                                               subjects  \\\n",
       "id                                                                                                                                                                                                                        \n",
       "1661  {Private investigators -- England -- Fiction, Holmes, Sherlock (Fictitious character) -- Fiction, Detective and mystery stories, English}                                                                           \n",
       "2852  {Blessing and cursing -- Fiction, Holmes, Sherlock (Fictitious character) -- Fiction, Dartmoor (England) -- Fiction, Detective and mystery stories, Private investigators -- England -- Fiction, Dogs -- Fiction}   \n",
       "2344  {Private investigators -- England -- Fiction, Detective and mystery stories, Holmes, Sherlock (Fictitious character) -- Fiction}                                                                                    \n",
       "2841  {Fantasy fiction, English, Adventure stories, Quatermain, Allan (Fictitious character) -- Fiction}                                                                                                                  \n",
       "2867  {American fiction -- 19th century, California -- Social life and customs -- Fiction, Western stories}                                                                                                               \n",
       "2343  {Private investigators -- England -- Fiction, Detective and mystery stories, Holmes, Sherlock (Fictitious character) -- Fiction}                                                                                    \n",
       "2347  {Private investigators -- England -- Fiction, Detective and mystery stories, Holmes, Sherlock (Fictitious character) -- Fiction}                                                                                    \n",
       "2097  {Private investigators -- England -- Fiction, Detective and mystery stories, Holmes, Sherlock (Fictitious character) -- Fiction}                                                                                    \n",
       "173   {Detective and mystery stories, Criminals -- Fiction, Fu Manchu, Doctor (Fictitious character) -- Fiction}                                                                                                          \n",
       "1159  {Detective and mystery stories, Secret societies -- Fiction}                                                                                                                                                        \n",
       "2784  {Western stories}                                                                                                                                                                                                   \n",
       "244   {Private investigators -- England -- Fiction, Detective and mystery stories, Holmes, Sherlock (Fictitious character) -- Fiction, England -- Fiction}                                                                \n",
       "108   {Holmes, Sherlock (Fictitious character) -- Fiction, Detective and mystery stories, English}                                                                                                                        \n",
       "2688  {Detective and mystery stories}                                                                                                                                                                                     \n",
       "1407  {Sea stories, English fiction -- 19th century}                                                                                                                                                                      \n",
       "221   {Private investigators -- England -- Fiction, Holmes, Sherlock (Fictitious character) -- Fiction, Detective and mystery stories, English}                                                                           \n",
       "1654  {Socialism -- Fiction, Satire, Rich people -- Fiction, Disguise -- Fiction}                                                                                                                                         \n",
       "1849  {Detective and mystery stories, Fiction}                                                                                                                                                                            \n",
       "1710  {Horror tales, French fiction -- Translations into English}                                                                                                                                                         \n",
       "2350  {Private investigators -- England -- Fiction, Detective and mystery stories, Holmes, Sherlock (Fictitious character) -- Fiction}                                                                                    \n",
       "\n",
       "      score  \n",
       "id           \n",
       "1661  1.000  \n",
       "2852  0.849  \n",
       "2344  0.828  \n",
       "2841  0.827  \n",
       "2867  0.818  \n",
       "2343  0.811  \n",
       "2347  0.810  \n",
       "2097  0.803  \n",
       "173   0.799  \n",
       "1159  0.788  \n",
       "2784  0.783  \n",
       "244   0.770  \n",
       "108   0.769  \n",
       "2688  0.768  \n",
       "1407  0.766  \n",
       "221   0.765  \n",
       "1654  0.760  \n",
       "1849  0.759  \n",
       "1710  0.759  \n",
       "2350  0.757  "
      ]
     },
     "execution_count": 19,
     "metadata": {},
     "output_type": "execute_result"
    }
   ],
   "source": [
    "sims = np.array(model.docvecs.most_similar([model.docvecs[doc_id]], topn=n))\n",
    "\n",
    "result = metadata_simple.copy().loc[[int(i) for i in sims[:n, 0]]]\n",
    "result['score'] = sims[:n, 1]\n",
    "result['score'] = result['score'].apply(lambda x: np.round(float(x),3))\n",
    "result"
   ]
  },
  {
   "cell_type": "markdown",
   "metadata": {},
   "source": [
    "### Pride and Prejudice"
   ]
  },
  {
   "cell_type": "code",
   "execution_count": 20,
   "metadata": {},
   "outputs": [],
   "source": [
    "doc_id = '1342'\n",
    "n = 20"
   ]
  },
  {
   "cell_type": "code",
   "execution_count": 21,
   "metadata": {},
   "outputs": [
    {
     "data": {
      "text/html": [
       "<div>\n",
       "<style scoped>\n",
       "    .dataframe tbody tr th:only-of-type {\n",
       "        vertical-align: middle;\n",
       "    }\n",
       "\n",
       "    .dataframe tbody tr th {\n",
       "        vertical-align: top;\n",
       "    }\n",
       "\n",
       "    .dataframe thead th {\n",
       "        text-align: right;\n",
       "    }\n",
       "</style>\n",
       "<table border=\"1\" class=\"dataframe\">\n",
       "  <thead>\n",
       "    <tr style=\"text-align: right;\">\n",
       "      <th></th>\n",
       "      <th>author</th>\n",
       "      <th>title</th>\n",
       "      <th>subjects</th>\n",
       "      <th>score</th>\n",
       "    </tr>\n",
       "    <tr>\n",
       "      <th>id</th>\n",
       "      <th></th>\n",
       "      <th></th>\n",
       "      <th></th>\n",
       "      <th></th>\n",
       "    </tr>\n",
       "  </thead>\n",
       "  <tbody>\n",
       "    <tr>\n",
       "      <th>1342</th>\n",
       "      <td>Austen, Jane</td>\n",
       "      <td>Pride and Prejudice</td>\n",
       "      <td>{Social classes -- Fiction, Sisters -- Fiction, Love stories, Courtship -- Fiction, Domestic fiction, Young women -- Fiction, England -- Fiction}</td>\n",
       "      <td>1.000</td>\n",
       "    </tr>\n",
       "    <tr>\n",
       "      <th>158</th>\n",
       "      <td>Austen, Jane</td>\n",
       "      <td>Emma</td>\n",
       "      <td>{Humorous stories, Fathers and daughters -- Fiction, Love stories, Young women -- Fiction, Female friendship -- Fiction, Mate selection -- Fiction, Bildungsromans, England -- Fiction}</td>\n",
       "      <td>0.856</td>\n",
       "    </tr>\n",
       "    <tr>\n",
       "      <th>1387</th>\n",
       "      <td>Wister, Owen</td>\n",
       "      <td>Mother</td>\n",
       "      <td>{Storytelling -- Fiction, Investments -- Fiction}</td>\n",
       "      <td>0.848</td>\n",
       "    </tr>\n",
       "    <tr>\n",
       "      <th>2155</th>\n",
       "      <td>Moore, Frank Frankfort</td>\n",
       "      <td>Phyllis of Philistia</td>\n",
       "      <td>{Fiction}</td>\n",
       "      <td>0.845</td>\n",
       "    </tr>\n",
       "    <tr>\n",
       "      <th>1586</th>\n",
       "      <td>Collins, Wilkie</td>\n",
       "      <td>Man and Wife</td>\n",
       "      <td>{Bigamy -- Fiction, England -- Fiction, Married women -- Fiction, Domestic fiction}</td>\n",
       "      <td>0.843</td>\n",
       "    </tr>\n",
       "    <tr>\n",
       "      <th>1808</th>\n",
       "      <td>Davis, Richard Harding</td>\n",
       "      <td>The Log of the \"Jolly Polly\"</td>\n",
       "      <td>{Man-woman relationships -- Fiction}</td>\n",
       "      <td>0.835</td>\n",
       "    </tr>\n",
       "    <tr>\n",
       "      <th>1473</th>\n",
       "      <td>Edgeworth, Maria</td>\n",
       "      <td>The Absentee</td>\n",
       "      <td>{British -- Ireland -- Fiction, Socialites -- Fiction, Satire, Landowners -- Fiction, Domestic fiction, Ireland -- Fiction, Administration of estates -- Fiction, Absentee landlordism -- Fiction}</td>\n",
       "      <td>0.820</td>\n",
       "    </tr>\n",
       "    <tr>\n",
       "      <th>1839</th>\n",
       "      <td>Wolf, Emma</td>\n",
       "      <td>Other Things Being Equal</td>\n",
       "      <td>{Love stories, Interfaith marriage -- Fiction, Jewish families -- Fiction, Jews -- California -- San Francisco -- Fiction, Domestic fiction, Jewish fiction, Jewish women -- Fiction, San Francisco (Calif.) -- Fiction}</td>\n",
       "      <td>0.819</td>\n",
       "    </tr>\n",
       "    <tr>\n",
       "      <th>209</th>\n",
       "      <td>James, Henry</td>\n",
       "      <td>The Turn of the Screw</td>\n",
       "      <td>{Governesses -- Fiction, Psychological fiction, Ghost stories, Children -- Fiction, England -- Fiction}</td>\n",
       "      <td>0.818</td>\n",
       "    </tr>\n",
       "    <tr>\n",
       "      <th>1442</th>\n",
       "      <td>Oppenheim, E. Phillips (Edward Phillips)</td>\n",
       "      <td>The Kingdom of the Blind</td>\n",
       "      <td>{Fiction, Spy stories}</td>\n",
       "      <td>0.815</td>\n",
       "    </tr>\n",
       "    <tr>\n",
       "      <th>1858</th>\n",
       "      <td>Kipling, Rudyard</td>\n",
       "      <td>Plain Tales from the Hills</td>\n",
       "      <td>{India -- History -- British occupation, 1765-1947 -- Fiction, British -- India -- Fiction}</td>\n",
       "      <td>0.814</td>\n",
       "    </tr>\n",
       "    <tr>\n",
       "      <th>1032</th>\n",
       "      <td>James, Henry</td>\n",
       "      <td>The Pupil</td>\n",
       "      <td>{Fiction}</td>\n",
       "      <td>0.810</td>\n",
       "    </tr>\n",
       "    <tr>\n",
       "      <th>1709</th>\n",
       "      <td>Gissing, George</td>\n",
       "      <td>New Grub Street</td>\n",
       "      <td>{Man-woman relationships -- Fiction, Psychological fiction, Authors and publishers -- Fiction, London (England) -- Fiction, Authors -- Fiction, Journalists -- Fiction}</td>\n",
       "      <td>0.807</td>\n",
       "    </tr>\n",
       "    <tr>\n",
       "      <th>2844</th>\n",
       "      <td>Thackeray, William Makepeace</td>\n",
       "      <td>The Fatal Boots</td>\n",
       "      <td>{Family life -- Fiction, England -- Social life and customs -- 19th century -- Fiction, Early memories -- Fiction}</td>\n",
       "      <td>0.805</td>\n",
       "    </tr>\n",
       "    <tr>\n",
       "      <th>366</th>\n",
       "      <td>Rinehart, Mary Roberts</td>\n",
       "      <td>Bab: A Sub-Deb</td>\n",
       "      <td>{Debutantes -- Fiction}</td>\n",
       "      <td>0.802</td>\n",
       "    </tr>\n",
       "    <tr>\n",
       "      <th>2859</th>\n",
       "      <td>Thackeray, William Makepeace</td>\n",
       "      <td>A Little Dinner at Timmins's</td>\n",
       "      <td>{England -- Social life and customs -- 19th century -- Fiction, London (England) -- Fiction}</td>\n",
       "      <td>0.797</td>\n",
       "    </tr>\n",
       "    <tr>\n",
       "      <th>2641</th>\n",
       "      <td>Forster, E. M. (Edward Morgan)</td>\n",
       "      <td>A Room with a View</td>\n",
       "      <td>{Humorous stories, British -- Italy -- Fiction, Florence (Italy) -- Fiction, Young women -- Fiction, England -- Fiction}</td>\n",
       "      <td>0.794</td>\n",
       "    </tr>\n",
       "    <tr>\n",
       "      <th>141</th>\n",
       "      <td>Austen, Jane</td>\n",
       "      <td>Mansfield Park</td>\n",
       "      <td>{Country homes -- Fiction, Cousins -- Fiction, Love stories, Uncles -- Fiction, Domestic fiction, Children of the rich -- Fiction, Adoptees -- Fiction, Young women -- Fiction, England -- Fiction}</td>\n",
       "      <td>0.793</td>\n",
       "    </tr>\n",
       "    <tr>\n",
       "      <th>1975</th>\n",
       "      <td>Collins, Wilkie</td>\n",
       "      <td>The Legacy of Cain</td>\n",
       "      <td>{Fathers and daughters -- Fiction, Romantic suspense fiction, Clergy -- Fiction, England -- Fiction, Children of women prisoners -- Fiction, Adopted children -- Fiction}</td>\n",
       "      <td>0.792</td>\n",
       "    </tr>\n",
       "    <tr>\n",
       "      <th>362</th>\n",
       "      <td>Porter, Eleanor H. (Eleanor Hodgman)</td>\n",
       "      <td>Miss Billy's Decision</td>\n",
       "      <td>{Love stories, Man-woman relationships -- Fiction}</td>\n",
       "      <td>0.789</td>\n",
       "    </tr>\n",
       "  </tbody>\n",
       "</table>\n",
       "</div>"
      ],
      "text/plain": [
       "                                        author                         title  \\\n",
       "id                                                                             \n",
       "1342  Austen, Jane                              Pride and Prejudice            \n",
       "158   Austen, Jane                              Emma                           \n",
       "1387  Wister, Owen                              Mother                         \n",
       "2155  Moore, Frank Frankfort                    Phyllis of Philistia           \n",
       "1586  Collins, Wilkie                           Man and Wife                   \n",
       "1808  Davis, Richard Harding                    The Log of the \"Jolly Polly\"   \n",
       "1473  Edgeworth, Maria                          The Absentee                   \n",
       "1839  Wolf, Emma                                Other Things Being Equal       \n",
       "209   James, Henry                              The Turn of the Screw          \n",
       "1442  Oppenheim, E. Phillips (Edward Phillips)  The Kingdom of the Blind       \n",
       "1858  Kipling, Rudyard                          Plain Tales from the Hills     \n",
       "1032  James, Henry                              The Pupil                      \n",
       "1709  Gissing, George                           New Grub Street                \n",
       "2844  Thackeray, William Makepeace              The Fatal Boots                \n",
       "366   Rinehart, Mary Roberts                    Bab: A Sub-Deb                 \n",
       "2859  Thackeray, William Makepeace              A Little Dinner at Timmins's   \n",
       "2641  Forster, E. M. (Edward Morgan)            A Room with a View             \n",
       "141   Austen, Jane                              Mansfield Park                 \n",
       "1975  Collins, Wilkie                           The Legacy of Cain             \n",
       "362   Porter, Eleanor H. (Eleanor Hodgman)      Miss Billy's Decision          \n",
       "\n",
       "                                                                                                                                                                                                                      subjects  \\\n",
       "id                                                                                                                                                                                                                               \n",
       "1342  {Social classes -- Fiction, Sisters -- Fiction, Love stories, Courtship -- Fiction, Domestic fiction, Young women -- Fiction, England -- Fiction}                                                                          \n",
       "158   {Humorous stories, Fathers and daughters -- Fiction, Love stories, Young women -- Fiction, Female friendship -- Fiction, Mate selection -- Fiction, Bildungsromans, England -- Fiction}                                    \n",
       "1387  {Storytelling -- Fiction, Investments -- Fiction}                                                                                                                                                                          \n",
       "2155  {Fiction}                                                                                                                                                                                                                  \n",
       "1586  {Bigamy -- Fiction, England -- Fiction, Married women -- Fiction, Domestic fiction}                                                                                                                                        \n",
       "1808  {Man-woman relationships -- Fiction}                                                                                                                                                                                       \n",
       "1473  {British -- Ireland -- Fiction, Socialites -- Fiction, Satire, Landowners -- Fiction, Domestic fiction, Ireland -- Fiction, Administration of estates -- Fiction, Absentee landlordism -- Fiction}                         \n",
       "1839  {Love stories, Interfaith marriage -- Fiction, Jewish families -- Fiction, Jews -- California -- San Francisco -- Fiction, Domestic fiction, Jewish fiction, Jewish women -- Fiction, San Francisco (Calif.) -- Fiction}   \n",
       "209   {Governesses -- Fiction, Psychological fiction, Ghost stories, Children -- Fiction, England -- Fiction}                                                                                                                    \n",
       "1442  {Fiction, Spy stories}                                                                                                                                                                                                     \n",
       "1858  {India -- History -- British occupation, 1765-1947 -- Fiction, British -- India -- Fiction}                                                                                                                                \n",
       "1032  {Fiction}                                                                                                                                                                                                                  \n",
       "1709  {Man-woman relationships -- Fiction, Psychological fiction, Authors and publishers -- Fiction, London (England) -- Fiction, Authors -- Fiction, Journalists -- Fiction}                                                    \n",
       "2844  {Family life -- Fiction, England -- Social life and customs -- 19th century -- Fiction, Early memories -- Fiction}                                                                                                         \n",
       "366   {Debutantes -- Fiction}                                                                                                                                                                                                    \n",
       "2859  {England -- Social life and customs -- 19th century -- Fiction, London (England) -- Fiction}                                                                                                                               \n",
       "2641  {Humorous stories, British -- Italy -- Fiction, Florence (Italy) -- Fiction, Young women -- Fiction, England -- Fiction}                                                                                                   \n",
       "141   {Country homes -- Fiction, Cousins -- Fiction, Love stories, Uncles -- Fiction, Domestic fiction, Children of the rich -- Fiction, Adoptees -- Fiction, Young women -- Fiction, England -- Fiction}                        \n",
       "1975  {Fathers and daughters -- Fiction, Romantic suspense fiction, Clergy -- Fiction, England -- Fiction, Children of women prisoners -- Fiction, Adopted children -- Fiction}                                                  \n",
       "362   {Love stories, Man-woman relationships -- Fiction}                                                                                                                                                                         \n",
       "\n",
       "      score  \n",
       "id           \n",
       "1342  1.000  \n",
       "158   0.856  \n",
       "1387  0.848  \n",
       "2155  0.845  \n",
       "1586  0.843  \n",
       "1808  0.835  \n",
       "1473  0.820  \n",
       "1839  0.819  \n",
       "209   0.818  \n",
       "1442  0.815  \n",
       "1858  0.814  \n",
       "1032  0.810  \n",
       "1709  0.807  \n",
       "2844  0.805  \n",
       "366   0.802  \n",
       "2859  0.797  \n",
       "2641  0.794  \n",
       "141   0.793  \n",
       "1975  0.792  \n",
       "362   0.789  "
      ]
     },
     "execution_count": 21,
     "metadata": {},
     "output_type": "execute_result"
    }
   ],
   "source": [
    "sims = np.array(model.docvecs.most_similar([model.docvecs[doc_id]], topn=n))\n",
    "\n",
    "result = metadata_simple.copy().loc[[int(i) for i in sims[:n, 0]]]\n",
    "result['score'] = sims[:n, 1]\n",
    "result['score'] = result['score'].apply(lambda x: np.round(float(x),3))\n",
    "result"
   ]
  },
  {
   "cell_type": "markdown",
   "metadata": {},
   "source": [
    "# Visualization of docvecs in 2d using PCA and t-SNE"
   ]
  },
  {
   "cell_type": "code",
   "execution_count": 22,
   "metadata": {},
   "outputs": [],
   "source": [
    "from matplotlib import pyplot as plt\n",
    "%matplotlib inline\n",
    "\n",
    "import itertools\n",
    "\n",
    "markers = ['o','v','^','s','P','*','h','x','D']"
   ]
  },
  {
   "cell_type": "markdown",
   "metadata": {},
   "source": [
    "## Authors"
   ]
  },
  {
   "cell_type": "markdown",
   "metadata": {},
   "source": [
    "### PCA"
   ]
  },
  {
   "cell_type": "code",
   "execution_count": 23,
   "metadata": {},
   "outputs": [],
   "source": [
    "from sklearn.decomposition.pca import PCA\n",
    "pca = PCA(2)\n",
    "docvecs_pca = pca.fit_transform(docvecs)"
   ]
  },
  {
   "cell_type": "code",
   "execution_count": 24,
   "metadata": {},
   "outputs": [],
   "source": [
    "n = len(authors.unique())\n",
    "author_colors = plt.cm.Set1(np.linspace(0, 1, n))\n",
    "author_markers = itertools.cycle(markers)\n",
    "author_color_marker_dict = {a : (author_colors[n], next(author_markers)) for n,a in enumerate(authors.unique())}"
   ]
  },
  {
   "cell_type": "code",
   "execution_count": 25,
   "metadata": {},
   "outputs": [
    {
     "data": {
      "text/plain": [
       "<matplotlib.legend.Legend at 0x121740438>"
      ]
     },
     "execution_count": 25,
     "metadata": {},
     "output_type": "execute_result"
    },
    {
     "data": {
      "image/png": "[encoded data removed]",
      "text/plain": [
       "<Figure size 1080x1080 with 1 Axes>"
      ]
     },
     "metadata": {},
     "output_type": "display_data"
    }
   ],
   "source": [
    "fig, ax = plt.subplots(1, 1, figsize=(15,15))\n",
    "\n",
    "for author,(color, marker) in author_color_marker_dict.items():\n",
    "    x = docvecs_pca[authors == author, 0]\n",
    "    y = docvecs_pca[authors == author, 1]\n",
    "    if author == 'Other':\n",
    "        continue\n",
    "        alpha = 0.1\n",
    "    else:\n",
    "        alpha = 1\n",
    "    ax.scatter(x, y, label=author, c=color, marker=marker, alpha=alpha)\n",
    "    \n",
    "ax.legend()"
   ]
  },
  {
   "cell_type": "markdown",
   "metadata": {},
   "source": [
    "### TSNE"
   ]
  },
  {
   "cell_type": "code",
   "execution_count": 26,
   "metadata": {},
   "outputs": [],
   "source": [
    "from sklearn.manifold import TSNE\n",
    "tsne = TSNE(n_components=2)\n",
    "docvecs_tsne = tsne.fit_transform(docvecs)"
   ]
  },
  {
   "cell_type": "code",
   "execution_count": 27,
   "metadata": {
    "scrolled": false
   },
   "outputs": [
    {
     "data": {
      "text/plain": [
       "<matplotlib.legend.Legend at 0x12194a240>"
      ]
     },
     "execution_count": 27,
     "metadata": {},
     "output_type": "execute_result"
    },
    {
     "data": {
      "image/png": "[encoded data removed]",
      "text/plain": [
       "<Figure size 1080x1080 with 1 Axes>"
      ]
     },
     "metadata": {},
     "output_type": "display_data"
    }
   ],
   "source": [
    "fig, ax = plt.subplots(1, 1, figsize=(15,15))\n",
    "\n",
    "for author,(color, marker) in author_color_marker_dict.items():\n",
    "    x = docvecs_tsne[authors == author, 0]\n",
    "    y = docvecs_tsne[authors == author, 1]\n",
    "    if author == 'Other':\n",
    "        continue\n",
    "        alpha = 0.1\n",
    "    else:\n",
    "        alpha = 1\n",
    "    ax.scatter(x, y, label=author, c=color, marker=marker, alpha=alpha)\n",
    "    \n",
    "ax.legend()"
   ]
  },
  {
   "cell_type": "markdown",
   "metadata": {},
   "source": [
    "## Genres"
   ]
  },
  {
   "cell_type": "markdown",
   "metadata": {},
   "source": [
    "### PCA"
   ]
  },
  {
   "cell_type": "code",
   "execution_count": 28,
   "metadata": {},
   "outputs": [
    {
     "name": "stdout",
     "output_type": "stream",
     "text": [
      "<itertools.cycle object at 0x11a866e10>\n"
     ]
    }
   ],
   "source": [
    "n = len(selected_genres)\n",
    "genre_colors = plt.cm.Set1(np.linspace(0, 1, n))\n",
    "genre_markers = itertools.cycle(markers)\n",
    "print(genre_markers)\n",
    "genre_color_marker_dict = {g : (genre_colors[n], next(genre_markers)) for n,g in enumerate(selected_genres)}"
   ]
  },
  {
   "cell_type": "code",
   "execution_count": 29,
   "metadata": {},
   "outputs": [
    {
     "data": {
      "text/plain": [
       "<matplotlib.legend.Legend at 0x1209309e8>"
      ]
     },
     "execution_count": 29,
     "metadata": {},
     "output_type": "execute_result"
    },
    {
     "data": {
      "image/png": "[encoded data removed]",
      "text/plain": [
       "<Figure size 1080x1080 with 1 Axes>"
      ]
     },
     "metadata": {},
     "output_type": "display_data"
    }
   ],
   "source": [
    "fig, ax = plt.subplots(1, 1, figsize=(15,15))\n",
    "\n",
    "for genre,(color, marker) in genre_color_marker_dict.items():\n",
    "    x = docvecs_pca[genres == genre, 0]\n",
    "    y = docvecs_pca[genres == genre, 1]\n",
    "    alpha = 1\n",
    "    ax.scatter(x, y, label=genre, c=color, marker=marker, alpha=alpha)\n",
    "    \n",
    "ax.legend()"
   ]
  },
  {
   "cell_type": "markdown",
   "metadata": {},
   "source": [
    "### TSNE"
   ]
  },
  {
   "cell_type": "code",
   "execution_count": 30,
   "metadata": {},
   "outputs": [
    {
     "data": {
      "text/plain": [
       "<matplotlib.legend.Legend at 0x121aa9518>"
      ]
     },
     "execution_count": 30,
     "metadata": {},
     "output_type": "execute_result"
    },
    {
     "data": {
      "image/png": "[encoded data removed]",
      "text/plain": [
       "<Figure size 1080x1080 with 1 Axes>"
      ]
     },
     "metadata": {},
     "output_type": "display_data"
    }
   ],
   "source": [
    "fig, ax = plt.subplots(1, 1, figsize=(15,15))\n",
    "\n",
    "for genre,(color, marker) in genre_color_marker_dict.items():\n",
    "    x = docvecs_tsne[genres == genre, 0]\n",
    "    y = docvecs_tsne[genres == genre, 1]\n",
    "    alpha = 1\n",
    "    ax.scatter(x, y, label=genre, c=color, marker=marker, alpha=alpha)\n",
    "    \n",
    "ax.legend()"
   ]
  },
  {
   "cell_type": "markdown",
   "metadata": {},
   "source": [
    "# SUMMARY:\n",
    "- The most similar documents are usually documents written by the same author or having similar genre.\n",
    "- We can observe author clusters both using PCA and t-SNE dimensionality reduction\n",
    "- For genres, on the other hand, clusters can't be clearly seen."
   ]
  },
  {
   "cell_type": "markdown",
   "metadata": {},
   "source": [
    "# NEXT:\n",
    "- knn on genres\n",
    "- redo experiment with tf-idf BOW (with and without ngrams) and compare results"
   ]
  }
 ],
 "metadata": {
  "kernelspec": {
   "display_name": "venv_masterthesis",
   "language": "python",
   "name": "venv_masterthesis"
  },
  "language_info": {
   "codemirror_mode": {
    "name": "ipython",
    "version": 3
   },
   "file_extension": ".py",
   "mimetype": "text/x-python",
   "name": "python",
   "nbconvert_exporter": "python",
   "pygments_lexer": "ipython3",
   "version": "3.6.4"
  }
 },
 "nbformat": 4,
 "nbformat_minor": 1
}
